{
 "cells": [
  {
   "cell_type": "code",
   "execution_count": 1,
   "metadata": {},
   "outputs": [],
   "source": [
    "# Dependencies\n",
    "#import pymongo\n",
    "from bs4 import BeautifulSoup\n",
    "from splinter import Browser\n",
    "import requests\n",
    "import os\n",
    "import pandas as pd"
   ]
  },
  {
   "cell_type": "code",
   "execution_count": 2,
   "metadata": {},
   "outputs": [],
   "source": [
    "#executable_path = {'chromedriver.exe'}\n",
    "browser = Browser('chrome', headless=False)"
   ]
  },
  {
   "cell_type": "code",
   "execution_count": 3,
   "metadata": {},
   "outputs": [],
   "source": [
    "#Scrape the NASA Mars News Site and collect News Title and Paragraph Text.\n",
    "url = 'http://mars.nasa.gov/news/'\n",
    "browser.visit(url)"
   ]
  },
  {
   "cell_type": "code",
   "execution_count": 4,
   "metadata": {},
   "outputs": [
    {
     "name": "stdout",
     "output_type": "stream",
     "text": [
      "<div class=\"list_text\"><div class=\"list_date\">April 11, 2019</div><div class=\"content_title\"><a href=\"/news/8427/curiosity-tastes-first-sample-in-clay-bearing-unit/\" target=\"_self\">Curiosity Tastes First Sample in 'Clay-Bearing Unit'</a></div><div class=\"article_teaser_body\">This new region on Mars might reveal more about the role of water on Mount Sharp.</div></div>\n"
     ]
    }
   ],
   "source": [
    "#Create headline variable \n",
    "html = browser.html\n",
    "soup = BeautifulSoup(html, 'html.parser')\n",
    "\n",
    "headline = soup.find('div', class_='list_text')\n",
    "print(headline)"
   ]
  },
  {
   "cell_type": "code",
   "execution_count": 5,
   "metadata": {},
   "outputs": [],
   "source": [
    "#Create variables for the title and paragraph in the headline\n",
    "title = headline.find('div', class_='content_title').text\n",
    "paragraph = headline.find('div', class_='article_teaser_body').text\n"
   ]
  },
  {
   "cell_type": "code",
   "execution_count": 6,
   "metadata": {},
   "outputs": [
    {
     "name": "stdout",
     "output_type": "stream",
     "text": [
      "Curiosity Tastes First Sample in 'Clay-Bearing Unit'\n",
      "This new region on Mars might reveal more about the role of water on Mount Sharp.\n"
     ]
    }
   ],
   "source": [
    "#print variables title and paragraph\n",
    "print(title)\n",
    "print(paragraph)"
   ]
  },
  {
   "cell_type": "code",
   "execution_count": 7,
   "metadata": {},
   "outputs": [],
   "source": [
    "#Find the current featured Mars image and scrape\n",
    "url2 = 'https://www.jpl.nasa.gov/spaceimages/?search=&category=Mars'\n",
    "browser.visit(url2)"
   ]
  },
  {
   "cell_type": "code",
   "execution_count": 8,
   "metadata": {},
   "outputs": [],
   "source": [
    "#Complete button click to image using splinter\n",
    "button = browser.find_by_id('full_image').click()"
   ]
  },
  {
   "cell_type": "code",
   "execution_count": 9,
   "metadata": {},
   "outputs": [],
   "source": [
    "#Get partial link for image using splinter\n",
    "link_found = browser.find_link_by_partial_text('more info').click()"
   ]
  },
  {
   "cell_type": "code",
   "execution_count": 10,
   "metadata": {},
   "outputs": [
    {
     "name": "stdout",
     "output_type": "stream",
     "text": [
      "https//www.jpl.nasa.gov//spaceimages/images/largesize/PIA17302_hires.jpg\n"
     ]
    }
   ],
   "source": [
    "#Use BeautifulSoup to scrape the featured image\n",
    "html = browser.html\n",
    "soup1 = BeautifulSoup(html, 'html.parser')\n",
    "\n",
    "featured_image_url = soup1.find('figure', class_='lede').a.img\n",
    "print(\"https//www.jpl.nasa.gov/\" + featured_image_url['src'])"
   ]
  },
  {
   "cell_type": "code",
   "execution_count": null,
   "metadata": {},
   "outputs": [],
   "source": [
    "#Visit Mars Weather Twitter and scrape latest weather tweet\n",
    "url3 = 'https://twitter.com/marswxreport?lang=en'\n",
    "browser.visit(url3)"
   ]
  },
  {
   "cell_type": "code",
   "execution_count": null,
   "metadata": {},
   "outputs": [],
   "source": [
    "#Use Beautiful Soup to scrape the tweet\n",
    "html = browser.html\n",
    "soup2 = BeautifulSoup(html, 'html.parser')\n",
    "\n",
    "mars_weather = soup2.find('p', class_='TweetTextSize TweetTextSize--normal js-tweet-text tweet-text').text\n",
    "print(mars_weather)"
   ]
  },
  {
   "cell_type": "code",
   "execution_count": null,
   "metadata": {},
   "outputs": [],
   "source": [
    "#Visit Mars Facts webpage and use PANDAS to scrape the table containing Mars Facts\n",
    "url4 = 'https://space-facts.com/mars/'"
   ]
  },
  {
   "cell_type": "code",
   "execution_count": null,
   "metadata": {},
   "outputs": [],
   "source": [
    "#Use Pandas to read in the table\n",
    "mars_table = pd.read_html(url4)\n",
    "mars_table"
   ]
  },
  {
   "cell_type": "code",
   "execution_count": null,
   "metadata": {},
   "outputs": [],
   "source": [
    "#Create a dataframe for the table\n",
    "df = mars_table[0]\n",
    "df.columns = ['Mars Planet Attribute', 'Attribute Value']\n",
    "df.head()\n"
   ]
  },
  {
   "cell_type": "code",
   "execution_count": null,
   "metadata": {},
   "outputs": [],
   "source": [
    "#Set the index for the table to the attribute\n",
    "df.set_index('Mars Planet Attribute', inplace=True)\n",
    "df.head()"
   ]
  },
  {
   "cell_type": "code",
   "execution_count": null,
   "metadata": {},
   "outputs": [],
   "source": [
    "#Convert to html\n",
    "html_table = df.to_html()\n",
    "html_table"
   ]
  },
  {
   "cell_type": "code",
   "execution_count": null,
   "metadata": {},
   "outputs": [],
   "source": [
    "#Eliminate the new lines that appear\n",
    "html_table.replace('\\n', '')"
   ]
  },
  {
   "cell_type": "code",
   "execution_count": null,
   "metadata": {},
   "outputs": [],
   "source": [
    "#Output the talbe to html to test view\n",
    "df.to_html('table.html')"
   ]
  },
  {
   "cell_type": "code",
   "execution_count": null,
   "metadata": {
    "scrolled": true
   },
   "outputs": [],
   "source": [
    "#Visit USGS Astogeology site to obtain high resolution images for each Mars Hemisphere\n",
    "url5 = 'https://astrogeology.usgs.gov/search/results?q=hemisphere+enhanced&k1=target&v1=Mars'\n",
    "browser.visit(url5)"
   ]
  },
  {
   "cell_type": "code",
   "execution_count": null,
   "metadata": {},
   "outputs": [],
   "source": [
    "#User splinter to find the images\n",
    "html = browser.html\n",
    "test = browser.find_by_css('div.description')\n",
    "#print(test)"
   ]
  },
  {
   "cell_type": "code",
   "execution_count": null,
   "metadata": {},
   "outputs": [],
   "source": [
    "#Loop through images and titles\n",
    "hemi_list = []\n",
    "for i in range(len(test)):\n",
    "    dict1 = {}\n",
    "    browser.find_by_css('div.description')[i].find_by_css('h3').click()\n",
    "    sample = browser.find_link_by_text('Sample').first\n",
    "    dict1['image_url'] = sample['href']\n",
    "    #print(sample['href'])                                           \n",
    "    text = browser.find_by_css('h2.title').text\n",
    "    dict1['title'] = text\n",
    "    hemi_list.append(dict1)\n",
    "    browser.back()\n",
    "  \n",
    "\n",
    "\n"
   ]
  },
  {
   "cell_type": "code",
   "execution_count": null,
   "metadata": {},
   "outputs": [],
   "source": [
    "#Print the list \n",
    "print(hemi_list)"
   ]
  },
  {
   "cell_type": "code",
   "execution_count": null,
   "metadata": {},
   "outputs": [],
   "source": [
    "#Create a dictionary to save all of the scrape data for use in Python script\n",
    "mars_dictionary = {}\n",
    "mars_dictionary['Headline']=headline\n",
    "mars_dictionary['Title']=title\n",
    "mars_dictionary['Featured_Image_url']=f\"https//www.jpl.nasa.gov/\" + featured_image_url['src']\n",
    "mars_dictionary['Mars_weather']=mars_weather\n",
    "mars_dictionary['Mars_table']=mars_table\n",
    "mars_dictionary['Hemi_list']=hemi_list\n",
    "print(mars_dictionary)"
   ]
  }
 ],
 "metadata": {
  "kernelspec": {
   "display_name": "Python 3",
   "language": "python",
   "name": "python3"
  },
  "language_info": {
   "codemirror_mode": {
    "name": "ipython",
    "version": 3
   },
   "file_extension": ".py",
   "mimetype": "text/x-python",
   "name": "python",
   "nbconvert_exporter": "python",
   "pygments_lexer": "ipython3",
   "version": "3.7.0"
  }
 },
 "nbformat": 4,
 "nbformat_minor": 2
}
